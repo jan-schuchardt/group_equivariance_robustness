{
 "cells": [
  {
   "cell_type": "code",
   "execution_count": 1,
   "id": "475f9b1a",
   "metadata": {},
   "outputs": [],
   "source": [
    "%load_ext autoreload\n",
    "%autoreload 2\n",
    "import os\n",
    "os.chdir('/nfs/homedirs/ket/uq4molecules/DimeNet/dimenet_pytorch/')"
   ]
  },
  {
   "cell_type": "code",
   "execution_count": 2,
   "id": "ad619979",
   "metadata": {},
   "outputs": [],
   "source": [
    "import yaml"
   ]
  },
  {
   "cell_type": "code",
   "execution_count": 3,
   "id": "98610c02",
   "metadata": {},
   "outputs": [],
   "source": [
    "from utils import init_and_load_model, get_id_dataloader, get_ood_dataloader\n",
    "from uq_model import UQModel\n",
    "from utils_metrics import get_maes_and_calibration_evidential, get_uncertainties_evidential, get_metrics_and_uncertainties_dropout\n",
    "from ood_detection import anomaly_detection"
   ]
  },
  {
   "cell_type": "code",
   "execution_count": 4,
   "id": "884ea34b",
   "metadata": {},
   "outputs": [],
   "source": [
    "with open('evaluation/seml/configs/config_dropout_qm7x.yaml', 'r') as c:\n",
    "    config = yaml.safe_load(c)\n",
    "# For strings that yaml doesn't parse (e.g. None)\n",
    "for key, val in config.items():\n",
    "    if type(val) is str:\n",
    "        try:\n",
    "            config[key] = ast.literal_eval(val)\n",
    "        except (ValueError, SyntaxError):\n",
    "            pass"
   ]
  },
  {
   "cell_type": "code",
   "execution_count": 5,
   "id": "d394baf7",
   "metadata": {},
   "outputs": [],
   "source": [
    "model_name = config['fixed']['model_name']\n",
    "model_params = config['fixed']['model_params']\n",
    "path_to_trained = './logs/20220912_133237_6bFxfh_QM7X_final' # dropout dimenet++ qm7x eq\n",
    "#path_to_trained = './logs/20220912_133758_dTvWL5_QM7X_final' # dropout dimenet++ qm7x non-eq\n",
    "#path_to_trained = './logs/20220912_163902_EBf1fL_MD17_final' # dropout dimenet++ md17 aspirin\n",
    "#path_to_trained = './logs/20220914_095120_WU9P2c_QM7X_final' # evidential dimenet++ qm7x eq\n",
    "suffix = '/best/model.pth' \n",
    "\n",
    "dataset_name = config['fixed']['dataset_name']\n",
    "dataset_params = config['fixed']['dataset_params']\n"
   ]
  },
  {
   "cell_type": "code",
   "execution_count": 6,
   "id": "44dd484c",
   "metadata": {},
   "outputs": [],
   "source": [
    "model = init_and_load_model(model_name, model_params, path_to_trained+suffix)"
   ]
  },
  {
   "cell_type": "code",
   "execution_count": 7,
   "id": "2dd4656b",
   "metadata": {},
   "outputs": [],
   "source": [
    "uq_model = UQModel(model_name, model, n_mc_dropout_runs=150)"
   ]
  },
  {
   "cell_type": "code",
   "execution_count": 8,
   "id": "c71b2c5d",
   "metadata": {},
   "outputs": [],
   "source": [
    "id_loader = get_id_dataloader(dataset_name, dataset_params)"
   ]
  },
  {
   "cell_type": "code",
   "execution_count": 9,
   "id": "43482b2c",
   "metadata": {},
   "outputs": [],
   "source": [
    "ood_loader = get_ood_dataloader(dataset_name, dataset_params)"
   ]
  },
  {
   "cell_type": "code",
   "execution_count": 20,
   "id": "df6b1782",
   "metadata": {},
   "outputs": [
    {
     "name": "stderr",
     "output_type": "stream",
     "text": [
      " 62%|██████▏   | 3082/5000 [00:13<00:35, 54.39it/s]  "
     ]
    },
    {
     "name": "stdout",
     "output_type": "stream",
     "text": [
      "cov_mat: tensor([[ 1.3296e+06, -1.2224e+06,  3.0229e+05, -2.6082e+02, -8.0480e+03,\n",
      "          4.5136e+03,  9.9056e+03, -1.7982e+03,  1.8340e+03, -1.3312e+06,\n",
      "          1.2298e+06, -3.1985e+05,  6.0013e+02,  1.1127e+03,  7.7723e+03,\n",
      "          4.1149e+02, -5.9707e+02,  2.3833e+01, -9.0712e+03,  1.9102e+03,\n",
      "          3.4141e+03],\n",
      "        [-1.2224e+06,  1.1310e+06, -2.8057e+05, -4.7646e+02,  7.9491e+03,\n",
      "         -4.3004e+03, -1.0320e+04,  2.3079e+03, -1.6678e+03,  1.2249e+06,\n",
      "         -1.1387e+06,  2.9731e+05, -5.6995e+02, -1.0292e+03, -7.2481e+03,\n",
      "         -2.2354e+02,  5.6744e+02, -1.0944e+01,  9.1483e+03, -2.0464e+03,\n",
      "         -3.5039e+03],\n",
      "        [ 3.0229e+05, -2.8057e+05,  7.2053e+04,  1.3935e+03, -3.0750e+03,\n",
      "          8.7888e+02,  2.4026e+03, -3.8764e+02,  5.0098e+02, -3.0384e+05,\n",
      "          2.8338e+05, -7.5971e+04,  2.0427e+01,  3.1849e+02,  1.6352e+03,\n",
      "          8.4399e+01, -1.5489e+02,  1.6600e+01, -2.3533e+03,  4.9374e+02,\n",
      "          8.8684e+02],\n",
      "        [-2.6082e+02, -4.7646e+02,  1.3935e+03,  6.5774e+03, -3.0872e+03,\n",
      "         -2.3240e+03, -4.3452e+02, -8.3692e+01, -1.0388e+02, -5.7412e+03,\n",
      "          3.6177e+03,  9.5460e+02, -6.5642e+01,  5.7947e+01,  2.9306e+01,\n",
      "         -9.6426e+01, -3.4557e+01,  9.6047e+00,  2.1193e+01,  6.2543e+00,\n",
      "          4.0872e+01],\n",
      "        [-8.0480e+03,  7.9491e+03, -3.0750e+03, -3.0872e+03,  1.7362e+03,\n",
      "          1.0811e+03,  7.2284e+01, -6.0058e+01, -4.1157e+01,  1.0883e+04,\n",
      "         -9.6123e+03,  2.1007e+03,  4.4740e+01, -3.2787e+01, -2.2016e+00,\n",
      "          4.3126e+01,  4.3629e+01, -8.8212e+00,  9.1853e+01, -2.3766e+01,\n",
      "         -5.4586e+01],\n",
      "        [ 4.5136e+03, -4.3004e+03,  8.7888e+02, -2.3240e+03,  1.0811e+03,\n",
      "          9.9208e+02,  1.7392e+02, -5.4756e+01, -1.4300e+00, -2.4126e+03,\n",
      "          3.2748e+03, -1.9269e+03,  4.0672e+01, -1.8064e+01,  6.2126e+01,\n",
      "          3.5837e+01,  2.8969e+00, -2.0058e+00, -2.7481e+01,  1.4449e+01,\n",
      "         -2.7503e+00],\n",
      "        [ 9.9056e+03, -1.0320e+04,  2.4026e+03, -4.3452e+02,  7.2284e+01,\n",
      "          1.7392e+02,  6.4498e+02, -1.0960e+02,  5.3828e+01, -9.8944e+03,\n",
      "          1.0299e+04, -2.7781e+03,  9.5222e+00, -3.2418e+00,  4.0625e+01,\n",
      "         -1.4214e+01, -3.3989e+01,  1.0917e+00, -2.1702e+02,  9.5556e+01,\n",
      "          1.0596e+02],\n",
      "        [-1.7982e+03,  2.3079e+03, -3.8764e+02, -8.3692e+01, -6.0058e+01,\n",
      "         -5.4756e+01, -1.0960e+02,  1.7790e+02,  7.1685e+01,  1.9357e+03,\n",
      "         -2.3727e+03,  4.9020e+02, -1.7868e+01, -2.9552e+00, -7.5451e+01,\n",
      "          1.6787e+01,  5.8919e+00,  2.0556e+00,  5.6797e+01, -5.5899e+01,\n",
      "         -4.6090e+01],\n",
      "        [ 1.8340e+03, -1.6678e+03,  5.0098e+02, -1.0388e+02, -4.1157e+01,\n",
      "         -1.4300e+00,  5.3828e+01,  7.1685e+01,  5.6441e+01, -1.7507e+03,\n",
      "          1.6546e+03, -5.2740e+02, -7.3034e+00, -6.9116e-01, -2.8039e+01,\n",
      "          6.1405e+00, -2.2316e+00,  1.0134e+00, -3.2146e+01, -1.4457e+01,\n",
      "         -1.5636e+00],\n",
      "        [-1.3312e+06,  1.2249e+06, -3.0384e+05, -5.7412e+03,  1.0883e+04,\n",
      "         -2.4126e+03, -9.8944e+03,  1.9357e+03, -1.7507e+03,  1.3390e+06,\n",
      "         -1.2352e+06,  3.1926e+05, -5.6578e+02, -1.1459e+03, -7.8114e+03,\n",
      "         -3.8288e+02,  5.8981e+02, -3.5839e+01,  8.8122e+03, -1.9167e+03,\n",
      "         -3.4099e+03],\n",
      "        [ 1.2298e+06, -1.1387e+06,  2.8338e+05,  3.6177e+03, -9.6123e+03,\n",
      "          3.2748e+03,  1.0299e+04, -2.3727e+03,  1.6546e+03, -1.2352e+06,\n",
      "          1.1483e+06, -2.9925e+05,  5.7513e+02,  1.0388e+03,  7.3426e+03,\n",
      "          1.0915e+02, -7.2108e+02,  2.3365e+01, -9.2334e+03,  2.0881e+03,\n",
      "          3.5710e+03],\n",
      "        [-3.1985e+05,  2.9731e+05, -7.5971e+04,  9.5460e+02,  2.1007e+03,\n",
      "         -1.9269e+03, -2.7781e+03,  4.9020e+02, -5.2740e+02,  3.1926e+05,\n",
      "         -2.9925e+05,  8.1514e+04, -1.4125e+02, -3.2186e+02, -2.0936e+03,\n",
      "         -8.2051e+01,  2.3731e+02, -1.8832e+01,  2.6366e+03, -5.6571e+02,\n",
      "         -9.7653e+02],\n",
      "        [ 6.0013e+02, -5.6995e+02,  2.0427e+01, -6.5642e+01,  4.4740e+01,\n",
      "          4.0672e+01,  9.5222e+00, -1.7868e+01, -7.3034e+00, -5.6578e+02,\n",
      "          5.7513e+02, -1.4125e+02,  3.8728e+01, -1.2336e+01,  8.3743e+01,\n",
      "         -9.6618e+00, -2.3631e+01,  7.3157e-01, -7.2942e+00,  3.9136e+00,\n",
      "          2.9795e+00],\n",
      "        [ 1.1127e+03, -1.0292e+03,  3.1849e+02,  5.7947e+01, -3.2787e+01,\n",
      "         -1.8064e+01, -3.2418e+00, -2.9552e+00, -6.9116e-01, -1.1459e+03,\n",
      "          1.0388e+03, -3.2186e+02, -1.2336e+01,  1.5319e+01,  1.7822e+01,\n",
      "          2.4918e+00,  8.4108e+00, -5.2451e-01, -1.1719e+01,  2.4047e+00,\n",
      "          4.8237e+00],\n",
      "        [ 7.7723e+03, -7.2481e+03,  1.6352e+03,  2.9306e+01, -2.2016e+00,\n",
      "          6.2126e+01,  4.0625e+01, -7.5451e+01, -2.8039e+01, -7.8114e+03,\n",
      "          7.3426e+03, -2.0936e+03,  8.3743e+01,  1.7822e+01,  3.8632e+02,\n",
      "         -3.3079e+01, -6.2069e+01,  2.4213e+00, -8.1447e+01,  2.7396e+01,\n",
      "          3.5506e+01],\n",
      "        [ 4.1149e+02, -2.2354e+02,  8.4399e+01, -9.6426e+01,  4.3126e+01,\n",
      "          3.5837e+01, -1.4214e+01,  1.6787e+01,  6.1405e+00, -3.8288e+02,\n",
      "          1.0915e+02, -8.2051e+01, -9.6618e+00,  2.4918e+00, -3.3079e+01,\n",
      "          7.1847e+01,  6.2588e+01,  2.0197e-01,  1.9840e+01, -1.0604e+01,\n",
      "         -1.1449e+01],\n",
      "        [-5.9707e+02,  5.6744e+02, -1.5489e+02, -3.4557e+01,  4.3629e+01,\n",
      "          2.8969e+00, -3.3989e+01,  5.8919e+00, -2.2316e+00,  5.8981e+02,\n",
      "         -7.2108e+02,  2.3731e+02, -2.3631e+01,  8.4108e+00, -6.2069e+01,\n",
      "          6.2588e+01,  1.0848e+02, -4.9288e+00,  3.6846e+01, -1.2778e+01,\n",
      "         -1.6082e+01],\n",
      "        [ 2.3833e+01, -1.0944e+01,  1.6600e+01,  9.6047e+00, -8.8212e+00,\n",
      "         -2.0058e+00,  1.0917e+00,  2.0556e+00,  1.0134e+00, -3.5839e+01,\n",
      "          2.3365e+01, -1.8832e+01,  7.3157e-01, -5.2451e-01,  2.4213e+00,\n",
      "          2.0197e-01, -4.9288e+00,  8.3409e-01,  3.7583e-01, -2.0245e-01,\n",
      "         -3.1175e-02],\n",
      "        [-9.0712e+03,  9.1483e+03, -2.3533e+03,  2.1193e+01,  9.1853e+01,\n",
      "         -2.7481e+01, -2.1702e+02,  5.6797e+01, -3.2146e+01,  8.8122e+03,\n",
      "         -9.2334e+03,  2.6366e+03, -7.2942e+00, -1.1719e+01, -8.1447e+01,\n",
      "          1.9840e+01,  3.6846e+01,  3.7583e-01,  4.4223e+02, -8.8630e+01,\n",
      "         -1.4257e+02],\n",
      "        [ 1.9102e+03, -2.0464e+03,  4.9374e+02,  6.2543e+00, -2.3766e+01,\n",
      "          1.4449e+01,  9.5556e+01, -5.5899e+01, -1.4457e+01, -1.9167e+03,\n",
      "          2.0881e+03, -5.6571e+02,  3.9136e+00,  2.4047e+00,  2.7396e+01,\n",
      "         -1.0604e+01, -1.2778e+01, -2.0245e-01, -8.8630e+01,  4.8320e+01,\n",
      "          4.4784e+01],\n",
      "        [ 3.4141e+03, -3.5039e+03,  8.8684e+02,  4.0872e+01, -5.4586e+01,\n",
      "         -2.7503e+00,  1.0596e+02, -4.6090e+01, -1.5636e+00, -3.4099e+03,\n",
      "          3.5710e+03, -9.7653e+02,  2.9795e+00,  4.8237e+00,  3.5506e+01,\n",
      "         -1.1449e+01, -1.6082e+01, -3.1175e-02, -1.4257e+02,  4.4784e+01,\n",
      "          5.8525e+01]], dtype=torch.float64)\n",
      "det_atomwise: tensor([7.9912e+12], device='cuda:0')\n",
      "N: 7\n",
      "energy_uncertainty: 73.55826568603516\n",
      "det: 1.1033296444282392e-21\n",
      "trace: 5112817.138530945\n",
      "largest_eig: 5083093.27248967\n"
     ]
    },
    {
     "name": "stderr",
     "output_type": "stream",
     "text": [
      "100%|██████████| 5000/5000 [00:15<00:00, 327.23it/s] "
     ]
    },
    {
     "name": "stdout",
     "output_type": "stream",
     "text": [
      "energy_uncertainties:[tensor(73.5583)]\n",
      "dets:[tensor(1.1033e-21, dtype=torch.float64)]\n",
      "traces:[tensor(5112817.1385, dtype=torch.float64)]\n",
      "largest_eigs:[tensor(5083093.2725, dtype=torch.float64)]\n"
     ]
    },
    {
     "name": "stderr",
     "output_type": "stream",
     "text": [
      "\n"
     ]
    }
   ],
   "source": [
    "energy_mae_id, forces_mae_id, calibration_id, energy_uncertainties_id, dets_id, traces_id, largest_eigs_id = get_metrics_and_uncertainties_dropout(uq_model, id_loader)\n"
   ]
  },
  {
   "cell_type": "code",
   "execution_count": 26,
   "id": "f4d529e3",
   "metadata": {},
   "outputs": [
    {
     "data": {
      "text/plain": [
       "tensor([1., 2.])"
      ]
     },
     "execution_count": 26,
     "metadata": {},
     "output_type": "execute_result"
    }
   ],
   "source": [
    "import torch\n",
    "torch.cat([torch.Tensor([1.0]), torch.Tensor([2.0])])"
   ]
  },
  {
   "cell_type": "code",
   "execution_count": 14,
   "id": "46dda3a7",
   "metadata": {},
   "outputs": [
    {
     "name": "stdout",
     "output_type": "stream",
     "text": [
      "energy_mae: 0.01884382776916027. forces_mae: 0.022280756384134293, calibration:2.9770755767822266\n"
     ]
    }
   ],
   "source": [
    "energy_mae, forces_mae, calibration = get_maes_and_calibration(uq_model, id_loader)\n",
    "print(f'energy_mae: {energy_mae}. forces_mae: {forces_mae}, calibration:{calibration}')"
   ]
  },
  {
   "cell_type": "code",
   "execution_count": 34,
   "id": "23b94ec0",
   "metadata": {},
   "outputs": [],
   "source": [
    "uncertainties_id_1, uncertainties_id_2 = get_uncertainties(uq_model, id_loader)\n",
    "uncertainties_ood_1, uncertainties_ood_2 = get_uncertainties(uq_model, ood_loader)"
   ]
  },
  {
   "cell_type": "code",
   "execution_count": 39,
   "id": "c4c907fb",
   "metadata": {},
   "outputs": [
    {
     "name": "stdout",
     "output_type": "stream",
     "text": [
      "roc_1=0.58604892, apr_1=0.5395716203931644\n"
     ]
    }
   ],
   "source": [
    "roc_1 = anomaly_detection(1/uncertainties_id_1, 1/uncertainties_ood_1, score_type='AUROC')\n",
    "apr_1 = anomaly_detection(1/uncertainties_id_1, 1/uncertainties_ood_1, score_type='APR')\n",
    "print(f'roc_1={roc_1}, apr_1={apr_1}')"
   ]
  },
  {
   "cell_type": "code",
   "execution_count": 31,
   "id": "a03c75fb",
   "metadata": {},
   "outputs": [
    {
     "name": "stdout",
     "output_type": "stream",
     "text": [
      "{}\n"
     ]
    }
   ],
   "source": [
    "output_dict = {}\n",
    "print(output_dict)"
   ]
  },
  {
   "cell_type": "code",
   "execution_count": 33,
   "id": "3eb74a7c",
   "metadata": {},
   "outputs": [
    {
     "name": "stdout",
     "output_type": "stream",
     "text": [
      "{'a': 1}\n",
      "{'a': 1, 'b': 2}\n"
     ]
    }
   ],
   "source": [
    "output_dict['a'] = 1\n",
    "print(output_dict)\n",
    "output_dict['b'] = 2\n",
    "print(output_dict)"
   ]
  },
  {
   "cell_type": "code",
   "execution_count": 40,
   "id": "2329bb60",
   "metadata": {},
   "outputs": [
    {
     "name": "stdout",
     "output_type": "stream",
     "text": [
      "roc_2=0.45485764000000006, apr_2=0.44588229576946925\n"
     ]
    }
   ],
   "source": [
    "roc_2 = anomaly_detection(1/uncertainties_id_2, 1/uncertainties_ood_2, score_type='AUROC')\n",
    "apr_2 = anomaly_detection(1/uncertainties_id_2, 1/uncertainties_ood_2, score_type='APR')\n",
    "print(f'roc_2={roc_2}, apr_2={apr_2}')"
   ]
  },
  {
   "cell_type": "code",
   "execution_count": 11,
   "id": "ffa037fc",
   "metadata": {},
   "outputs": [
    {
     "name": "stderr",
     "output_type": "stream",
     "text": [
      "/nfs/homedirs/ket/miniconda3/envs/dimenet++/lib/python3.8/site-packages/torchmetrics/utilities/prints.py:36: UserWarning: Metric `AUROC` will save all targets and predictions in buffer. For large datasets this may lead to large memory footprint.\n",
      "  warnings.warn(*args, **kwargs)\n",
      "/nfs/homedirs/ket/miniconda3/envs/dimenet++/lib/python3.8/site-packages/torchmetrics/utilities/prints.py:36: UserWarning: Torchmetrics v0.9 introduced a new argument class property called `full_state_update` that has\n",
      "                not been set for this class (AUCPR). The property determines if `update` by\n",
      "                default needs access to the full metric state. If this is not the case, significant speedups can be\n",
      "                achieved and we recommend setting this to `False`.\n",
      "                We provide an checking function\n",
      "                `from torchmetrics.utilities import check_forward_no_full_state`\n",
      "                that can be used to check if the `full_state_update=True` (old and potential slower behaviour,\n",
      "                default for now) or if `full_state_update=False` can be used safely.\n",
      "                \n",
      "  warnings.warn(*args, **kwargs)\n"
     ]
    },
    {
     "name": "stdout",
     "output_type": "stream",
     "text": [
      "Energy:\t \t \t \t \t \t Forces:\n",
      "  energy_roc: 0.15305501222610474, \t \t   forces_roc: 0.9778759479522705\n",
      "  energy_pr: 0.3309403359889984, \t \t   forces_pr: 0.9805764555931091\n",
      " \n",
      " \n",
      "\n"
     ]
    }
   ],
   "source": [
    "roc1, pr1, roc2, pr2 = get_uncertainty_metrics(uq_model, combined_loader)\n",
    "print(f'Energy:\\t \\t \\t \\t \\t \\t Forces:\\n  \\\n",
    "energy_roc: {roc1}, \\t \\t   forces_roc: {roc2}\\n  \\\n",
    "energy_pr: {pr1}, \\t \\t   forces_pr: {pr2}\\n \\n \\n')"
   ]
  }
 ],
 "metadata": {
  "kernelspec": {
   "display_name": "Python 3 (ipykernel)",
   "language": "python",
   "name": "python3"
  },
  "language_info": {
   "codemirror_mode": {
    "name": "ipython",
    "version": 3
   },
   "file_extension": ".py",
   "mimetype": "text/x-python",
   "name": "python",
   "nbconvert_exporter": "python",
   "pygments_lexer": "ipython3",
   "version": "3.8.13"
  }
 },
 "nbformat": 4,
 "nbformat_minor": 5
}

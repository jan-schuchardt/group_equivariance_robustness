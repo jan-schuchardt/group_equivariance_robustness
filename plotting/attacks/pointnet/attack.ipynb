{
 "cells": [
  {
   "cell_type": "code",
   "execution_count": null,
   "metadata": {},
   "outputs": [],
   "source": [
    "from pointcloud_invariance_smoothing.data import get_dataset\n",
    "from pointcloud_invariance_smoothing.models.utils import get_model\n",
    "import torch\n",
    "import numpy as np\n",
    "from torch.nn.functional import cross_entropy\n",
    "from tqdm import tqdm"
   ]
  },
  {
   "cell_type": "code",
   "execution_count": null,
   "metadata": {},
   "outputs": [],
   "source": [
    "dataset = {\n",
    "    'name': 'modelnet40',\n",
    "    'data_folder': '/your/path/to/modelnet/modelnet40_normal_resampled',\n",
    "    'val_percentage': 0.2\n",
    "}\n",
    "\n",
    "model_config = {\n",
    "    'model_type': 'pointnet',\n",
    "    'model_params': {\n",
    "        'input_tnet': True,\n",
    "        'feature_tnet': False,\n",
    "        'n_classes': 40,\n",
    "        'n_point_dim': 3,\n",
    "        'n_feat_dim': 0\n",
    "    },\n",
    "    'invariance_wrapper_params': {\n",
    "        'wrapper_type': 'no_wrapper',\n",
    "        'random_sign': False,\n",
    "        'random_order': False\n",
    "    }\n",
    "}"
   ]
  },
  {
   "cell_type": "code",
   "execution_count": null,
   "metadata": {},
   "outputs": [],
   "source": [
    "_, _, data_test = get_dataset(**dataset)"
   ]
  },
  {
   "cell_type": "code",
   "execution_count": null,
   "metadata": {},
   "outputs": [],
   "source": [
    "model = get_model(**model_config)\n",
    "\n",
    "train_file = torch.load('./equivariance_modelnet40_train_1')\n",
    "state_dict_file = train_file['state_dict_best_acc']\n",
    "\n",
    "model.load_state_dict(state_dict_file)\n",
    "model = model.cuda()\n",
    "model.eval()\n",
    "\n",
    "for param in model.parameters():\n",
    "    param.requires_grad = False"
   ]
  },
  {
   "cell_type": "code",
   "execution_count": null,
   "metadata": {},
   "outputs": [],
   "source": [
    "pred = []\n",
    "targets = []\n",
    "\n",
    "for X, target in data_test:\n",
    "\n",
    "    if isinstance(X, np.ndarray):\n",
    "        X = torch.Tensor(X)\n",
    "\n",
    "    X = X.unsqueeze(0).cuda()\n",
    "    logits = model(X)[0]\n",
    "\n",
    "    pred.append(int(logits.argmax().detach().cpu()))\n",
    "    targets.append(int(target))\n",
    "\n",
    "pred = np.array(pred)\n",
    "targets = np.array(targets)"
   ]
  },
  {
   "cell_type": "code",
   "execution_count": null,
   "metadata": {},
   "outputs": [],
   "source": [
    "(pred == targets).mean()"
   ]
  },
  {
   "cell_type": "code",
   "execution_count": null,
   "metadata": {},
   "outputs": [],
   "source": [
    "results_dict = {\n",
    "    'targets': targets,\n",
    "    'pred': pred,\n",
    "    'test_accuracy': (pred == targets).mean()\n",
    "}"
   ]
  },
  {
   "cell_type": "code",
   "execution_count": null,
   "metadata": {},
   "outputs": [],
   "source": [
    "def get_normalized_input_grad(X, target, model):\n",
    "    X_perturbed = X.clone()\n",
    "    X_perturbed.requires_grad = True\n",
    "\n",
    "    logits = model(X_perturbed)[0]\n",
    "\n",
    "    loss = cross_entropy(logits, torch.LongTensor([target]).cuda())\n",
    "    loss.backward()\n",
    "\n",
    "    input_grad = X_perturbed.grad.detach()\n",
    "    input_grad_norm = torch.norm(input_grad, p=2, dim=[1, 2])\n",
    "    assert input_grad_norm[0] > 0\n",
    "    \n",
    "    X_perturbed.requires_grad = False\n",
    "    normalized_grad = (input_grad / input_grad_norm).detach()\n",
    "\n",
    "    return normalized_grad"
   ]
  },
  {
   "cell_type": "code",
   "execution_count": null,
   "metadata": {},
   "outputs": [],
   "source": [
    "budget_max = 1\n",
    "budget_steps = 100\n",
    "\n",
    "budgets = np.linspace(0, budget_max, budget_steps)\n",
    "pred_at_budget = np.zeros((budget_steps, len(data_test)))\n",
    "\n",
    "\n",
    "for i, (X, target) in enumerate(tqdm(data_test)):\n",
    "\n",
    "    if isinstance(X, np.ndarray):\n",
    "        X = torch.Tensor(X)\n",
    "\n",
    "    X = X.unsqueeze(0).cuda()\n",
    "\n",
    "    normalized_grad = get_normalized_input_grad(X, target, model)\n",
    "\n",
    "    with torch.no_grad():\n",
    "\n",
    "        for j, budget in enumerate(budgets):\n",
    "            X_perturbed = X + budget * normalized_grad\n",
    "            logits = model(X_perturbed)[0]\n",
    "\n",
    "            pred_at_budget[j, i] = int(logits.argmax().detach().cpu())"
   ]
  },
  {
   "cell_type": "code",
   "execution_count": null,
   "metadata": {},
   "outputs": [],
   "source": [
    "attacked = (pred_at_budget != pred)"
   ]
  },
  {
   "cell_type": "code",
   "execution_count": null,
   "metadata": {},
   "outputs": [],
   "source": [
    "results_dict.update({\n",
    "    'attacked': attacked,\n",
    "})"
   ]
  },
  {
   "cell_type": "code",
   "execution_count": null,
   "metadata": {},
   "outputs": [],
   "source": [
    "torch.save(results_dict,\n",
    "           './results')"
   ]
  },
  {
   "cell_type": "code",
   "execution_count": null,
   "metadata": {},
   "outputs": [],
   "source": []
  }
 ],
 "metadata": {
  "kernelspec": {
   "display_name": "equivariance_robustness",
   "language": "python",
   "name": "python3"
  },
  "language_info": {
   "codemirror_mode": {
    "name": "ipython",
    "version": 3
   },
   "file_extension": ".py",
   "mimetype": "text/x-python",
   "name": "python",
   "nbconvert_exporter": "python",
   "pygments_lexer": "ipython3",
   "version": "3.10.9"
  },
  "orig_nbformat": 4
 },
 "nbformat": 4,
 "nbformat_minor": 2
}

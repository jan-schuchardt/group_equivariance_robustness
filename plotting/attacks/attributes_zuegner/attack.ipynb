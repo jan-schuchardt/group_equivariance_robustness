{
 "cells": [
  {
   "cell_type": "code",
   "execution_count": 6,
   "metadata": {},
   "outputs": [],
   "source": [
    "import numpy as np\n",
    "import torch\n",
    "from robust_gcn.robust_gcn import sparse_tensor\n",
    "from sacred import Experiment\n",
    "from scipy.sparse import csr_matrix\n",
    "from tqdm import tqdm\n",
    "\n",
    "from robust_gcn.robust_gcn import RobustGCNModel, certify\n",
    "from equivariance_robustness.attributes_zuegner.training import train\n",
    "from equivariance_robustness.data import (load_node_classification_dataset,\n",
    "                                          split)\n",
    "from equivariance_robustness.utils import set_seed"
   ]
  },
  {
   "cell_type": "code",
   "execution_count": 7,
   "metadata": {},
   "outputs": [],
   "source": [
    "dataset_params = {\n",
    "    'name': 'Cora',\n",
    "    'root': 'your/path/to/datasets/planetoid',\n",
    "    'n_per_class': 20\n",
    "}\n",
    "\n",
    "training_params = {\n",
    "    'n_iters': 3000,\n",
    "    'method': 'Normal',\n",
    "    'learning_rate': 1e-3,\n",
    "    'weight_decay': 5e-4,\n",
    "    'early_stopping': 50\n",
    "}\n",
    "\n",
    "certification_params = {\n",
    "    'q': 0.01,\n",
    "    'q_relative': True,\n",
    "    'Q_max': 50,\n",
    "    'optimize_omega': False,\n",
    "    'optimize_steps': 5,\n",
    "    'batch_size': 8,\n",
    "    'certify_nonrobustness': False,\n",
    "    'cost_add': 1,\n",
    "    'cost_del': 1\n",
    "}\n",
    "\n",
    "hidden_sizes = [32]\n",
    "\n",
    "seed = 0"
   ]
  },
  {
   "cell_type": "code",
   "execution_count": 8,
   "metadata": {},
   "outputs": [],
   "source": [
    "set_seed(seed)\n",
    "\n",
    "if torch.cuda.is_available():\n",
    "        device = torch.device('cuda:0')\n",
    "else:\n",
    "    device = torch.device('cpu')\n"
   ]
  },
  {
   "cell_type": "code",
   "execution_count": 9,
   "metadata": {},
   "outputs": [],
   "source": [
    "data = load_node_classification_dataset(device=torch.device('cpu'), seed=seed, root=dataset_params['root'], name=dataset_params['name'])"
   ]
  },
  {
   "cell_type": "code",
   "execution_count": 10,
   "metadata": {},
   "outputs": [],
   "source": [
    "edge_idx = data.edge_index.numpy()\n",
    "X = data.x.numpy()\n",
    "y = data.y.numpy().astype('int8')\n",
    "A = csr_matrix((np.ones(len(edge_idx[0])), (edge_idx[0], edge_idx[1])))\n",
    "X = csr_matrix(X)\n",
    "K = y.max()+1\n",
    "N,D = X.shape\n",
    "X_t = sparse_tensor(X).to(device)\n",
    "y_t = torch.tensor(y.astype(\"int64\"), device=device)"
   ]
  },
  {
   "cell_type": "code",
   "execution_count": 11,
   "metadata": {},
   "outputs": [],
   "source": [
    "# Split data\n",
    "idx_train, idx_val, idx_test = split(y, n_per_class=20)\n",
    "\n",
    "# Create model\n",
    "model = RobustGCNModel(A, [D]+hidden_sizes+[K]).cuda()\n",
    "\n",
    "# Train model\n",
    "q = certification_params['q']\n",
    "if certification_params['q_relative']:\n",
    "    q = q * D\n",
    "q = int(q)"
   ]
  },
  {
   "cell_type": "code",
   "execution_count": 12,
   "metadata": {},
   "outputs": [
    {
     "name": "stderr",
     "output_type": "stream",
     "text": [
      "  4%|▍         | 119/3000 [00:01<00:19, 150.67it/s]"
     ]
    }
   ],
   "source": [
    "train(gcn_model=model, X=X_t, y=y_t, idx_train=idx_train, idx_val=idx_val)"
   ]
  },
  {
   "cell_type": "code",
   "execution_count": null,
   "metadata": {},
   "outputs": [],
   "source": [
    "model.eval()\n",
    "pred = model.predict(X_t.to_dense(), np.arange(N)).detach().cpu().numpy()"
   ]
  },
  {
   "cell_type": "code",
   "execution_count": null,
   "metadata": {},
   "outputs": [],
   "source": [
    "results_dict = {\n",
    "        'targets': y,\n",
    "        'pred': pred,\n",
    "        'idx_train': idx_train,\n",
    "        'idx_val': idx_val,\n",
    "        'idx_test': idx_test,\n",
    "        'test_accuracy': (pred[idx_test] == y[idx_test]).mean(),\n",
    "    }"
   ]
  },
  {
   "cell_type": "code",
   "execution_count": null,
   "metadata": {},
   "outputs": [],
   "source": [
    "certified = []\n",
    "attacked = []\n",
    "max_rad = 0"
   ]
  },
  {
   "cell_type": "code",
   "execution_count": null,
   "metadata": {},
   "outputs": [
    {
     "name": "stderr",
     "output_type": "stream",
     "text": [
      "100%|██████████| 50/50 [15:11<00:00, 18.23s/it]\n"
     ]
    }
   ],
   "source": [
    "for Q in tqdm(range(1, certification_params['Q_max']+1)):\n",
    "    certified_at_Q, attacked_at_Q = certify(\n",
    "        gcn_model=model, attrs=X.astype(\"float32\"),\n",
    "        q=q, Q=Q,\n",
    "        optimize_omega=certification_params['optimize_omega'],\n",
    "        optimize_steps=certification_params['optimize_steps'],\n",
    "        batch_size=certification_params['batch_size'],\n",
    "        certify_nonrobustness=True,\n",
    "        progress=False)\n",
    "\n",
    "    certified_at_Q, attacked_at_Q = certified_at_Q.astype(bool), attacked_at_Q.astype(bool)\n",
    "\n",
    "    certified.append(certified_at_Q)\n",
    "    attacked.append(attacked_at_Q)\n",
    "\n",
    "    if np.sum(attacked_at_Q) == N:\n",
    "        break\n",
    "    else:\n",
    "        max_rad += 1"
   ]
  },
  {
   "cell_type": "code",
   "execution_count": null,
   "metadata": {},
   "outputs": [],
   "source": [
    "certified = np.vstack(certified)\n",
    "attacked = np.vstack(attacked)"
   ]
  },
  {
   "cell_type": "code",
   "execution_count": null,
   "metadata": {},
   "outputs": [],
   "source": [
    "results_dict.update({\n",
    "    'certified': certified,\n",
    "    'attacked': attacked,\n",
    "    'max_rad': max_rad\n",
    "})"
   ]
  },
  {
   "cell_type": "code",
   "execution_count": null,
   "metadata": {},
   "outputs": [],
   "source": [
    "torch.save(results_dict,\n",
    "           './results')"
   ]
  },
  {
   "cell_type": "code",
   "execution_count": null,
   "metadata": {},
   "outputs": [],
   "source": []
  }
 ],
 "metadata": {
  "kernelspec": {
   "display_name": "equivariance_robustness",
   "language": "python",
   "name": "python3"
  },
  "language_info": {
   "codemirror_mode": {
    "name": "ipython",
    "version": 3
   },
   "file_extension": ".py",
   "mimetype": "text/x-python",
   "name": "python",
   "nbconvert_exporter": "python",
   "pygments_lexer": "ipython3",
   "version": "3.10.9"
  },
  "orig_nbformat": 4
 },
 "nbformat": 4,
 "nbformat_minor": 2
}

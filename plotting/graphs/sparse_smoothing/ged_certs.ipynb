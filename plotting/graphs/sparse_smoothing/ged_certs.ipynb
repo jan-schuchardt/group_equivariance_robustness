{
 "cells": [
  {
   "attachments": {},
   "cell_type": "markdown",
   "metadata": {},
   "source": [
    "# Intro"
   ]
  },
  {
   "cell_type": "code",
   "execution_count": 3,
   "metadata": {},
   "outputs": [
    {
     "name": "stdout",
     "output_type": "stream",
     "text": [
      "Modules to reload:\n",
      "all-except-skipped\n",
      "\n",
      "Modules to skip:\n",
      "\n"
     ]
    }
   ],
   "source": [
    "import torch\n",
    "import numpy as np\n",
    "from tqdm.auto import tqdm\n",
    "import seaborn as sns\n",
    "\n",
    "import seaborn as sns\n",
    "import jkutils.mpl_latex_template as mplt\n",
    "import matplotlib.pyplot as plt"
   ]
  },
  {
   "cell_type": "code",
   "execution_count": 5,
   "metadata": {},
   "outputs": [
    {
     "data": {
      "application/vnd.jupyter.widget-view+json": {
       "model_id": "74cee895770541d4b99719668dc089fc",
       "version_major": 2,
       "version_minor": 0
      },
      "text/plain": [
       "  0%|          | 0/481 [00:00<?, ?it/s]"
      ]
     },
     "metadata": {},
     "output_type": "display_data"
    },
    {
     "data": {
      "application/vnd.jupyter.widget-view+json": {
       "model_id": "4c4bb164dea849ceb7656a98c0df8f0b",
       "version_major": 2,
       "version_minor": 0
      },
      "text/plain": [
       "  0%|          | 0/481 [00:00<?, ?it/s]"
      ]
     },
     "metadata": {},
     "output_type": "display_data"
    },
    {
     "name": "stdout",
     "output_type": "stream",
     "text": [
      "481\n"
     ]
    }
   ],
   "source": [
    "import seml\n",
    "df_results = seml.get_results('graph_cert_sparse_smoothing', to_data_frame=True, fields=['config', 'stats'])"
   ]
  },
  {
   "cell_type": "code",
   "execution_count": 30,
   "metadata": {},
   "outputs": [],
   "source": [
    "def plot_results_dict(plot_dict, xlabel, ylabel,\n",
    "                      error_alpha=0.5, x_lim_factor=1.05, y_lim_factor=1.1,\n",
    "                      legend_params={}, xlabel_params={}, ylabel_params={}, yticks_params=None, title_params=None,\n",
    "                      linewidth=1, clip_on=False, zorder=3, budget_scaling=1, xlim=None, ylim=None):\n",
    "    pal = sns.color_palette('colorblind', n_colors=len(plot_dict))\n",
    "\n",
    "    max_budget = 0\n",
    "    max_metric = 0\n",
    "\n",
    "    for i, k in enumerate(plot_dict.keys()):\n",
    "        if 'label' in plot_dict[k].keys():\n",
    "            label = plot_dict[k]['label']\n",
    "        else:\n",
    "            label = k\n",
    "\n",
    "        budgets = plot_dict[k]['budgets'] * budget_scaling\n",
    "        metrics = plot_dict[k]['cert_metrics']\n",
    "        \n",
    "        plt.step(budgets, metrics, label=label, color=pal[i], zorder=zorder, clip_on=clip_on, linewidth=linewidth, where='mid')\n",
    "\n",
    "        if 'errors' in plot_dict[k].keys():\n",
    "            errors = plot_dict[k]['errors']\n",
    "            plt.fill_between(budgets, metrics-errors, metrics+errors, alpha=error_alpha, color=pal[i], zorder=zorder, clip_on=clip_on, linewidth=0, step=\"mid\")\n",
    "\n",
    "        #print(f'Max error for {k} is {errors.max()}')\n",
    "\n",
    "        max_budget = max(max_budget, budgets.max())\n",
    "        max_metric = max(max_metric, metrics.max())\n",
    "\n",
    "    if xlim is not None:\n",
    "        plt.xlim(0, xlim)\n",
    "    elif x_lim_factor is not None:\n",
    "        plt.xlim(0, x_lim_factor * max_budget)\n",
    "    else:\n",
    "        plt.xlim(left=0)\n",
    "\n",
    "    if ylim is not None:\n",
    "        plt.ylim(0, ylim)\n",
    "    elif y_lim_factor is not None:\n",
    "        plt.ylim(0, y_lim_factor * max_metric)\n",
    "    else:\n",
    "        plt.ylim(bottom=0)\n",
    "\n",
    "    plt.xlabel(xlabel, **xlabel_params)\n",
    "    plt.ylabel(ylabel, **ylabel_params)\n",
    "\n",
    "    if title_params is not None:\n",
    "        plt.title(**title_params)\n",
    "\n",
    "    if yticks_params is not None:\n",
    "        plt.yticks(**yticks_params)\n",
    "\n",
    "    plt.legend(**legend_params)"
   ]
  },
  {
   "cell_type": "code",
   "execution_count": 8,
   "metadata": {},
   "outputs": [],
   "source": [
    "path = \"anon/plots/sparse_smoothing/\""
   ]
  },
  {
   "cell_type": "code",
   "execution_count": 18,
   "metadata": {},
   "outputs": [
    {
     "name": "stdout",
     "output_type": "stream",
     "text": [
      "11\n"
     ]
    }
   ],
   "source": [
    "cond = (df_results['config.hparams.task'] == 'graph_classification') &\\\n",
    "        (df_results['config.hparams.p_adj_plus'] == 0) &\\\n",
    "        (df_results['config.hparams.p_adj_minus'] == 0) &\\\n",
    "        (df_results['config.hparams.p_att_plus'] > 0) &\\\n",
    "        (df_results['config.hparams.p_att_minus'] > 0) \n",
    "        #(df_results['config.hparams.hidden_channels'] == 64) \n",
    "print(len(df_results[cond]))"
   ]
  },
  {
   "cell_type": "code",
   "execution_count": 19,
   "metadata": {},
   "outputs": [
    {
     "data": {
      "application/vnd.jupyter.widget-view+json": {
       "model_id": "9f893b6191a14290946222b4d360abfe",
       "version_major": 2,
       "version_minor": 0
      },
      "text/plain": [
       "0it [00:00, ?it/s]"
      ]
     },
     "metadata": {},
     "output_type": "display_data"
    }
   ],
   "source": [
    "format = 'pgf'\n",
    "for id,row in tqdm(df_results[cond].iterrows()):\n",
    "    conf_id = row['config.overwrite']\n",
    "    result = torch.load(f\"anon/results/sparse_smoothing/post/graph_cert_sparse_smoothing_post_{conf_id}\")\n",
    "    result = result['cert_acc']\n",
    "    for cert in ['binary_class_cert', 'multi_class_cert']:\n",
    "        filename = f\"{row['config.hparams.task']}-{row['config.hparams.dataset']}-{row['config.hparams.arch']}-hidden={row['config.hparams.hidden_channels']}-p_adj_plus={row['config.hparams.p_adj_plus']}-p_adj_minus={row['config.hparams.p_adj_minus']}-p_att_plus={row['config.hparams.p_att_plus']}-p_att_minus={row['config.hparams.p_att_minus']}-{cert}\"\n",
    "        #print(filename)\n",
    "\n",
    "        pca = 1\n",
    "        d = {\n",
    "            1: {\n",
    "                'budgets': np.array(result[(cert,pca,1)][0]),\n",
    "                'cert_metrics': np.array(result[(cert,pca,1)][1]),\n",
    "                'errors': np.array(result[(cert,pca,1)][2]),\n",
    "            },\n",
    "            2: {\n",
    "                'budgets': np.array(result[(cert,pca,2)][0]),\n",
    "                'cert_metrics': np.array(result[(cert,pca,2)][1]),\n",
    "                'errors': np.array(result[(cert,pca,2)][2]),\n",
    "            },\n",
    "            4: {\n",
    "                'budgets': np.array(result[(cert,pca,4)][0]),\n",
    "                'cert_metrics': np.array(result[(cert,pca,4)][1]),\n",
    "                'errors': np.array(result[(cert,pca,4)][2]),\n",
    "            }\n",
    "        }\n",
    "\n",
    "        sns.set_theme()\n",
    "        mplt.newfig(width=0.25, ratio_yx=1.15)\n",
    "        plot_results_dict(d, 'Edit distance $\\epsilon$', 'Cert. Acc.', legend_params={'fontsize': 7, 'title_fontsize': 9, 'title': '$c_X^-$'}, ylim=1, xlim=10, clip_on=True, title_params={'label': '$c_X^+=1$', 'fontsize': 9},\n",
    "                        yticks_params={'ticks': [0, 0.25, 0.5, 0.75, 1.0], 'labels': ['0%', '25%', '50%', '75%', '100%']})\n",
    "\n",
    "        mplt.savefig(path+filename+\"-A\", format=format, close_fig='True', preview='png', tight={'pad': 0.55})\n",
    "\n",
    "        pcd = 1\n",
    "        d = {\n",
    "            1: {\n",
    "                'budgets': np.array(result[(cert,1,pcd)][0]),\n",
    "                'cert_metrics': np.array(result[(cert,1,pcd)][1]),\n",
    "                'errors': np.array(result[(cert,1,pcd)][2]),\n",
    "            },\n",
    "            2: {\n",
    "                'budgets': np.array(result[(cert,2, pcd)][0]),\n",
    "                'cert_metrics': np.array(result[(cert,2, pcd)][1]),\n",
    "                'errors': np.array(result[(cert,2, pcd)][2]),\n",
    "            },\n",
    "            4: {\n",
    "                'budgets': np.array(result[(cert,4, pcd)][0]),\n",
    "                'cert_metrics': np.array(result[(cert,4, pcd)][1]),\n",
    "                'errors': np.array(result[(cert,4, pcd)][2]),\n",
    "            }\n",
    "        }\n",
    "        sns.set_theme()\n",
    "        mplt.newfig(width=0.25, ratio_yx=1.15)\n",
    "        plot_results_dict(d, 'Edit distance $\\epsilon$', 'Cert. Acc.', legend_params={'fontsize': 7, 'title_fontsize': 9, 'title': '$c_X^+$'}, ylim=1, xlim=10, clip_on=True, title_params={'label': '$c_X^-=1$', 'fontsize': 9},\n",
    "                        yticks_params={'ticks': [0, 0.25, 0.5, 0.75, 1.0], 'labels': ['0%', '25%', '50%', '75%', '100%']})\n",
    "        mplt.savefig(path+filename+\"-B\", format=format, close_fig='True', preview='png', tight={'pad': 0.55})\n",
    "    #break"
   ]
  },
  {
   "attachments": {},
   "cell_type": "markdown",
   "metadata": {},
   "source": [
    "# Joint plots"
   ]
  },
  {
   "cell_type": "code",
   "execution_count": 40,
   "metadata": {},
   "outputs": [
    {
     "name": "stdout",
     "output_type": "stream",
     "text": [
      "5\n"
     ]
    },
    {
     "data": {
      "text/html": [
       "<div>\n",
       "<style scoped>\n",
       "    .dataframe tbody tr th:only-of-type {\n",
       "        vertical-align: middle;\n",
       "    }\n",
       "\n",
       "    .dataframe tbody tr th {\n",
       "        vertical-align: top;\n",
       "    }\n",
       "\n",
       "    .dataframe thead th {\n",
       "        text-align: right;\n",
       "    }\n",
       "</style>\n",
       "<table border=\"1\" class=\"dataframe\">\n",
       "  <thead>\n",
       "    <tr style=\"text-align: right;\">\n",
       "      <th></th>\n",
       "      <th>config.overwrite</th>\n",
       "      <th>config.hparams.arch</th>\n",
       "      <th>config.hparams.p_att_plus</th>\n",
       "      <th>config.hparams.p_att_minus</th>\n",
       "      <th>config.hparams.p_adj_plus</th>\n",
       "      <th>config.hparams.p_adj_minus</th>\n",
       "    </tr>\n",
       "  </thead>\n",
       "  <tbody>\n",
       "    <tr>\n",
       "      <th>429</th>\n",
       "      <td>758</td>\n",
       "      <td>GCN</td>\n",
       "      <td>0.010</td>\n",
       "      <td>0.6</td>\n",
       "      <td>0.001</td>\n",
       "      <td>0.4</td>\n",
       "    </tr>\n",
       "    <tr>\n",
       "      <th>463</th>\n",
       "      <td>794</td>\n",
       "      <td>GCN</td>\n",
       "      <td>0.001</td>\n",
       "      <td>0.8</td>\n",
       "      <td>0.001</td>\n",
       "      <td>0.8</td>\n",
       "    </tr>\n",
       "    <tr>\n",
       "      <th>465</th>\n",
       "      <td>796</td>\n",
       "      <td>APPNP</td>\n",
       "      <td>0.001</td>\n",
       "      <td>0.8</td>\n",
       "      <td>0.001</td>\n",
       "      <td>0.8</td>\n",
       "    </tr>\n",
       "    <tr>\n",
       "      <th>471</th>\n",
       "      <td>810</td>\n",
       "      <td>APPNP</td>\n",
       "      <td>0.010</td>\n",
       "      <td>0.8</td>\n",
       "      <td>0.010</td>\n",
       "      <td>0.6</td>\n",
       "    </tr>\n",
       "    <tr>\n",
       "      <th>477</th>\n",
       "      <td>817</td>\n",
       "      <td>APPNP</td>\n",
       "      <td>0.010</td>\n",
       "      <td>0.8</td>\n",
       "      <td>0.010</td>\n",
       "      <td>0.8</td>\n",
       "    </tr>\n",
       "  </tbody>\n",
       "</table>\n",
       "</div>"
      ],
      "text/plain": [
       "     config.overwrite config.hparams.arch  config.hparams.p_att_plus  \\\n",
       "429               758                 GCN                      0.010   \n",
       "463               794                 GCN                      0.001   \n",
       "465               796               APPNP                      0.001   \n",
       "471               810               APPNP                      0.010   \n",
       "477               817               APPNP                      0.010   \n",
       "\n",
       "     config.hparams.p_att_minus  config.hparams.p_adj_plus  \\\n",
       "429                         0.6                      0.001   \n",
       "463                         0.8                      0.001   \n",
       "465                         0.8                      0.001   \n",
       "471                         0.8                      0.010   \n",
       "477                         0.8                      0.010   \n",
       "\n",
       "     config.hparams.p_adj_minus  \n",
       "429                         0.4  \n",
       "463                         0.8  \n",
       "465                         0.8  \n",
       "471                         0.6  \n",
       "477                         0.8  "
      ]
     },
     "execution_count": 40,
     "metadata": {},
     "output_type": "execute_result"
    }
   ],
   "source": [
    "cond = (df_results['config.hparams.task'] == 'node_classification') &\\\n",
    "               (df_results['config.hparams.p_adj_plus'] > 0) &\\\n",
    "        (df_results['config.hparams.p_adj_minus'] > 0)  &\\\n",
    "        (df_results['config.hparams.p_att_plus'] > 0) &\\\n",
    "        (df_results['config.hparams.p_att_minus'] > 0) &\\\n",
    "        (df_results['config.hparams.dataset'] == 'Cora') &\\\n",
    "        (df_results['config.hparams.hidden_channels'] == 32) \n",
    "        #(df_results['config.hparams.arch'] == 'GCN') \n",
    "\n",
    "        #(df_results['config.hparams.hidden_channels'] == 64) \n",
    "print(len(df_results[cond]))\n",
    "df_results[cond][['config.overwrite', \n",
    "                'config.hparams.arch',\n",
    "                 'config.hparams.p_att_plus',\n",
    "                 'config.hparams.p_att_minus',\n",
    "                 'config.hparams.p_adj_plus',\n",
    "                 'config.hparams.p_adj_minus']]"
   ]
  },
  {
   "cell_type": "code",
   "execution_count": 44,
   "metadata": {},
   "outputs": [],
   "source": [
    "result = torch.load(\"anon/results/sparse_smoothing/post/graph_cert_sparse_smoothing_post_794\")['cert_acc']"
   ]
  },
  {
   "cell_type": "code",
   "execution_count": 45,
   "metadata": {},
   "outputs": [
    {
     "data": {
      "text/plain": [
       "dict_keys([('binary_class_cert', 1, 1, 1, 1), ('binary_class_cert', 1, 1, 1, 2), ('binary_class_cert', 1, 1, 1, 4), ('binary_class_cert', 1, 1, 2, 1), ('binary_class_cert', 1, 1, 2, 2), ('binary_class_cert', 1, 1, 2, 4), ('binary_class_cert', 1, 1, 4, 1), ('binary_class_cert', 1, 1, 4, 2), ('binary_class_cert', 1, 1, 4, 4), ('binary_class_cert', 1, 2, 1, 1), ('binary_class_cert', 1, 2, 1, 2), ('binary_class_cert', 1, 2, 1, 4), ('binary_class_cert', 1, 2, 2, 1), ('binary_class_cert', 1, 2, 2, 2), ('binary_class_cert', 1, 2, 2, 4), ('binary_class_cert', 1, 2, 4, 1), ('binary_class_cert', 1, 2, 4, 2), ('binary_class_cert', 1, 2, 4, 4), ('binary_class_cert', 1, 4, 1, 1), ('binary_class_cert', 1, 4, 1, 2), ('binary_class_cert', 1, 4, 1, 4), ('binary_class_cert', 1, 4, 2, 1), ('binary_class_cert', 1, 4, 2, 2), ('binary_class_cert', 1, 4, 2, 4), ('binary_class_cert', 1, 4, 4, 1), ('binary_class_cert', 1, 4, 4, 2), ('binary_class_cert', 1, 4, 4, 4), ('binary_class_cert', 2, 1, 1, 1), ('binary_class_cert', 2, 1, 1, 2), ('binary_class_cert', 2, 1, 1, 4), ('binary_class_cert', 2, 1, 2, 1), ('binary_class_cert', 2, 1, 2, 2), ('binary_class_cert', 2, 1, 2, 4), ('binary_class_cert', 2, 1, 4, 1), ('binary_class_cert', 2, 1, 4, 2), ('binary_class_cert', 2, 1, 4, 4), ('binary_class_cert', 2, 2, 1, 1), ('binary_class_cert', 2, 2, 1, 2), ('binary_class_cert', 2, 2, 1, 4), ('binary_class_cert', 2, 2, 2, 1), ('binary_class_cert', 2, 2, 2, 2), ('binary_class_cert', 2, 2, 2, 4), ('binary_class_cert', 2, 2, 4, 1), ('binary_class_cert', 2, 2, 4, 2), ('binary_class_cert', 2, 2, 4, 4), ('binary_class_cert', 2, 4, 1, 1), ('binary_class_cert', 2, 4, 1, 2), ('binary_class_cert', 2, 4, 1, 4), ('binary_class_cert', 2, 4, 2, 1), ('binary_class_cert', 2, 4, 2, 2), ('binary_class_cert', 2, 4, 2, 4), ('binary_class_cert', 2, 4, 4, 1), ('binary_class_cert', 2, 4, 4, 2), ('binary_class_cert', 2, 4, 4, 4), ('binary_class_cert', 4, 1, 1, 1), ('binary_class_cert', 4, 1, 1, 2), ('binary_class_cert', 4, 1, 1, 4), ('binary_class_cert', 4, 1, 2, 1), ('binary_class_cert', 4, 1, 2, 2), ('binary_class_cert', 4, 1, 2, 4), ('binary_class_cert', 4, 1, 4, 1), ('binary_class_cert', 4, 1, 4, 2), ('binary_class_cert', 4, 1, 4, 4), ('binary_class_cert', 4, 2, 1, 1), ('binary_class_cert', 4, 2, 1, 2), ('binary_class_cert', 4, 2, 1, 4), ('binary_class_cert', 4, 2, 2, 1), ('binary_class_cert', 4, 2, 2, 2), ('binary_class_cert', 4, 2, 2, 4), ('binary_class_cert', 4, 2, 4, 1), ('binary_class_cert', 4, 2, 4, 2), ('binary_class_cert', 4, 2, 4, 4), ('binary_class_cert', 4, 4, 1, 1), ('binary_class_cert', 4, 4, 1, 2), ('binary_class_cert', 4, 4, 1, 4), ('binary_class_cert', 4, 4, 2, 1), ('binary_class_cert', 4, 4, 2, 2), ('binary_class_cert', 4, 4, 2, 4), ('binary_class_cert', 4, 4, 4, 1), ('binary_class_cert', 4, 4, 4, 2), ('binary_class_cert', 4, 4, 4, 4), ('multi_class_cert', 1, 1, 1, 1), ('multi_class_cert', 1, 1, 1, 2), ('multi_class_cert', 1, 1, 1, 4), ('multi_class_cert', 1, 1, 2, 1), ('multi_class_cert', 1, 1, 2, 2), ('multi_class_cert', 1, 1, 2, 4), ('multi_class_cert', 1, 1, 4, 1), ('multi_class_cert', 1, 1, 4, 2), ('multi_class_cert', 1, 1, 4, 4), ('multi_class_cert', 1, 2, 1, 1), ('multi_class_cert', 1, 2, 1, 2), ('multi_class_cert', 1, 2, 1, 4), ('multi_class_cert', 1, 2, 2, 1), ('multi_class_cert', 1, 2, 2, 2), ('multi_class_cert', 1, 2, 2, 4), ('multi_class_cert', 1, 2, 4, 1), ('multi_class_cert', 1, 2, 4, 2), ('multi_class_cert', 1, 2, 4, 4), ('multi_class_cert', 1, 4, 1, 1), ('multi_class_cert', 1, 4, 1, 2), ('multi_class_cert', 1, 4, 1, 4), ('multi_class_cert', 1, 4, 2, 1), ('multi_class_cert', 1, 4, 2, 2), ('multi_class_cert', 1, 4, 2, 4), ('multi_class_cert', 1, 4, 4, 1), ('multi_class_cert', 1, 4, 4, 2), ('multi_class_cert', 1, 4, 4, 4), ('multi_class_cert', 2, 1, 1, 1), ('multi_class_cert', 2, 1, 1, 2), ('multi_class_cert', 2, 1, 1, 4), ('multi_class_cert', 2, 1, 2, 1), ('multi_class_cert', 2, 1, 2, 2), ('multi_class_cert', 2, 1, 2, 4), ('multi_class_cert', 2, 1, 4, 1), ('multi_class_cert', 2, 1, 4, 2), ('multi_class_cert', 2, 1, 4, 4), ('multi_class_cert', 2, 2, 1, 1), ('multi_class_cert', 2, 2, 1, 2), ('multi_class_cert', 2, 2, 1, 4), ('multi_class_cert', 2, 2, 2, 1), ('multi_class_cert', 2, 2, 2, 2), ('multi_class_cert', 2, 2, 2, 4), ('multi_class_cert', 2, 2, 4, 1), ('multi_class_cert', 2, 2, 4, 2), ('multi_class_cert', 2, 2, 4, 4), ('multi_class_cert', 2, 4, 1, 1), ('multi_class_cert', 2, 4, 1, 2), ('multi_class_cert', 2, 4, 1, 4), ('multi_class_cert', 2, 4, 2, 1), ('multi_class_cert', 2, 4, 2, 2), ('multi_class_cert', 2, 4, 2, 4), ('multi_class_cert', 2, 4, 4, 1), ('multi_class_cert', 2, 4, 4, 2), ('multi_class_cert', 2, 4, 4, 4), ('multi_class_cert', 4, 1, 1, 1), ('multi_class_cert', 4, 1, 1, 2), ('multi_class_cert', 4, 1, 1, 4), ('multi_class_cert', 4, 1, 2, 1), ('multi_class_cert', 4, 1, 2, 2), ('multi_class_cert', 4, 1, 2, 4), ('multi_class_cert', 4, 1, 4, 1), ('multi_class_cert', 4, 1, 4, 2), ('multi_class_cert', 4, 1, 4, 4), ('multi_class_cert', 4, 2, 1, 1), ('multi_class_cert', 4, 2, 1, 2), ('multi_class_cert', 4, 2, 1, 4), ('multi_class_cert', 4, 2, 2, 1), ('multi_class_cert', 4, 2, 2, 2), ('multi_class_cert', 4, 2, 2, 4), ('multi_class_cert', 4, 2, 4, 1), ('multi_class_cert', 4, 2, 4, 2), ('multi_class_cert', 4, 2, 4, 4), ('multi_class_cert', 4, 4, 1, 1), ('multi_class_cert', 4, 4, 1, 2), ('multi_class_cert', 4, 4, 1, 4), ('multi_class_cert', 4, 4, 2, 1), ('multi_class_cert', 4, 4, 2, 2), ('multi_class_cert', 4, 4, 2, 4), ('multi_class_cert', 4, 4, 4, 1), ('multi_class_cert', 4, 4, 4, 2), ('multi_class_cert', 4, 4, 4, 4)])"
      ]
     },
     "execution_count": 45,
     "metadata": {},
     "output_type": "execute_result"
    }
   ],
   "source": [
    "result.keys()"
   ]
  },
  {
   "cell_type": "code",
   "execution_count": 47,
   "metadata": {},
   "outputs": [],
   "source": [
    "import matplotlib.pyplot as plt\n",
    "\n",
    "\n",
    "for pca_A in [1,2,4]:\n",
    "    for pcd_A in [1,2,4]:\n",
    "        for pca_F in [1,2,4]:\n",
    "            for pcd_F in [1,2,4]:\n",
    "                x = result[(cert,pca_A,pcd_A, pca_F, pcd_F)][0]\n",
    "                x[-1] = 10\n",
    "                y = result[(cert,pca_A,pcd_A, pca_F, pcd_F)][1]\n",
    "                label = f\"A: ca={pca_A}, cd={pcd_A}. F: ca={pca_F}, cd={pcd_F}\"\n",
    "                plt.step(x, y, label=label, where='mid')\n",
    "                plt.xlim([0,10])\n",
    "                plt.legend(loc=\"upper right\")\n",
    "                mplt.savefig(path + \"/\" + label + \".pdf\", format='pdf', close_fig='True', preview='png', tight={'pad': 0.55})"
   ]
  },
  {
   "cell_type": "code",
   "execution_count": 54,
   "metadata": {},
   "outputs": [],
   "source": [
    "path = \"anon/plots/sparse_smoothing/joint\"\n",
    "format = 'pgf'\n",
    "cert = 'multi_class_cert'"
   ]
  },
  {
   "cell_type": "code",
   "execution_count": 59,
   "metadata": {},
   "outputs": [
    {
     "data": {
      "text/html": [
       "\n",
       "        <iframe\n",
       "            width=\"700\"\n",
       "            height=\"500\"\n",
       "            src=\"preview_tmp2755395264.png\"\n",
       "            frameborder=\"0\"\n",
       "            allowfullscreen\n",
       "            \n",
       "        ></iframe>\n",
       "        "
      ],
      "text/plain": [
       "<IPython.lib.display.IFrame at 0x7f64566626b0>"
      ]
     },
     "execution_count": 59,
     "metadata": {},
     "output_type": "execute_result"
    }
   ],
   "source": [
    "d = {}\n",
    "cA_p = 1\n",
    "cA_m = 1\n",
    "cF_p = 1\n",
    "cF_m = 1\n",
    "key = (cert, cA_p, cA_m, cF_p, cF_m)\n",
    "d[1] = {\n",
    "        'budgets': np.array(result[key][0]),\n",
    "        'cert_metrics': np.array(result[key][1]),\n",
    "        'errors': np.array(result[key][2]),\n",
    "    }\n",
    "cA_p = 1\n",
    "cA_m = 2\n",
    "cF_p = 1\n",
    "cF_m = 2\n",
    "key = (cert, cA_p, cA_m, cF_p, cF_m)\n",
    "d[2] = {\n",
    "        'budgets': np.array(result[key][0]),\n",
    "        'cert_metrics': np.array(result[key][1]),\n",
    "        'errors': np.array(result[key][2]),\n",
    "    }\n",
    "\n",
    "cA_p = 1\n",
    "cA_m = 4\n",
    "cF_p = 1\n",
    "cF_m = 4\n",
    "key = (cert, cA_p, cA_m, cF_p, cF_m)\n",
    "d[4] = {\n",
    "        'budgets': np.array(result[key][0]),\n",
    "        'cert_metrics': np.array(result[key][1]),\n",
    "        'errors': np.array(result[key][2]),\n",
    "    }\n",
    "sns.set_theme()\n",
    "mplt.newfig(width=0.25, ratio_yx=1.15)\n",
    "plot_results_dict(d, 'Edit distance $\\epsilon$', 'Cert. Acc.', legend_params={'fontsize': 7, 'title_fontsize': 9, 'title': '$c_A^-=c_F^-$'}, ylim=1, xlim=10, clip_on=True, title_params={'label': '$c_A^+=c_F^+=1$', 'fontsize': 9},\n",
    "                yticks_params={'ticks': [0, 0.25, 0.5, 0.75, 1.0], 'labels': ['0%', '25%', '50%', '75%', '100%']})\n",
    "mplt.savefig(path+\"A\", format=format, close_fig='True', preview='png', tight={'pad': 0.55})"
   ]
  },
  {
   "cell_type": "code",
   "execution_count": 60,
   "metadata": {},
   "outputs": [
    {
     "data": {
      "text/html": [
       "\n",
       "        <iframe\n",
       "            width=\"700\"\n",
       "            height=\"500\"\n",
       "            src=\"preview_tmp2910138321.png\"\n",
       "            frameborder=\"0\"\n",
       "            allowfullscreen\n",
       "            \n",
       "        ></iframe>\n",
       "        "
      ],
      "text/plain": [
       "<IPython.lib.display.IFrame at 0x7f64565d7dc0>"
      ]
     },
     "execution_count": 60,
     "metadata": {},
     "output_type": "execute_result"
    }
   ],
   "source": [
    "d = {}\n",
    "cA_p = 1\n",
    "cA_m = 1\n",
    "cF_p = 1\n",
    "cF_m = 1\n",
    "key = (cert, cA_p, cA_m, cF_p, cF_m)\n",
    "d[1] = {\n",
    "        'budgets': np.array(result[key][0]),\n",
    "        'cert_metrics': np.array(result[key][1]),\n",
    "        'errors': np.array(result[key][2]),\n",
    "    }\n",
    "cA_p = 2\n",
    "cA_m = 1\n",
    "cF_p = 2\n",
    "cF_m = 1\n",
    "key = (cert, cA_p, cA_m, cF_p, cF_m)\n",
    "d[2] = {\n",
    "        'budgets': np.array(result[key][0]),\n",
    "        'cert_metrics': np.array(result[key][1]),\n",
    "        'errors': np.array(result[key][2]),\n",
    "    }\n",
    "\n",
    "cA_p = 4\n",
    "cA_m = 1\n",
    "cF_p = 4\n",
    "cF_m = 1\n",
    "key = (cert, cA_p, cA_m, cF_p, cF_m)\n",
    "d[4] = {\n",
    "        'budgets': np.array(result[key][0]),\n",
    "        'cert_metrics': np.array(result[key][1]),\n",
    "        'errors': np.array(result[key][2]),\n",
    "    }\n",
    "sns.set_theme()\n",
    "mplt.newfig(width=0.25, ratio_yx=1.15)\n",
    "plot_results_dict(d, 'Edit distance $\\epsilon$', 'Cert. Acc.', legend_params={'fontsize': 7, 'title_fontsize': 9, 'title': '$c_A^+=c_F^+$'}, ylim=1, xlim=10, clip_on=True, title_params={'label': '$c_A^-=c_F^-=1$', 'fontsize': 9},\n",
    "                yticks_params={'ticks': [0, 0.25, 0.5, 0.75, 1.0], 'labels': ['0%', '25%', '50%', '75%', '100%']})\n",
    "mplt.savefig(path+\"B\", format=format, close_fig='True', preview='png', tight={'pad': 0.55})"
   ]
  },
  {
   "cell_type": "code",
   "execution_count": 63,
   "metadata": {},
   "outputs": [
    {
     "data": {
      "text/html": [
       "\n",
       "        <iframe\n",
       "            width=\"700\"\n",
       "            height=\"500\"\n",
       "            src=\"preview_tmp1346645977.png\"\n",
       "            frameborder=\"0\"\n",
       "            allowfullscreen\n",
       "            \n",
       "        ></iframe>\n",
       "        "
      ],
      "text/plain": [
       "<IPython.lib.display.IFrame at 0x7f644e1575b0>"
      ]
     },
     "execution_count": 63,
     "metadata": {},
     "output_type": "execute_result"
    }
   ],
   "source": [
    "d = {}\n",
    "cA_p = 2\n",
    "cA_m = 1\n",
    "cF_p = 2\n",
    "cF_m = 1\n",
    "key = (cert, cA_p, cA_m, cF_p, cF_m)\n",
    "d[1] = {\n",
    "        'budgets': np.array(result[key][0]),\n",
    "        'cert_metrics': np.array(result[key][1]),\n",
    "        'errors': np.array(result[key][2]),\n",
    "    }\n",
    "cA_p = 2\n",
    "cA_m = 2\n",
    "cF_p = 2\n",
    "cF_m = 2\n",
    "key = (cert, cA_p, cA_m, cF_p, cF_m)\n",
    "d[2] = {\n",
    "        'budgets': np.array(result[key][0]),\n",
    "        'cert_metrics': np.array(result[key][1]),\n",
    "        'errors': np.array(result[key][2]),\n",
    "    }\n",
    "\n",
    "cA_p = 2\n",
    "cA_m = 4\n",
    "cF_p = 2\n",
    "cF_m = 4\n",
    "key = (cert, cA_p, cA_m, cF_p, cF_m)\n",
    "d[4] = {\n",
    "        'budgets': np.array(result[key][0]),\n",
    "        'cert_metrics': np.array(result[key][1]),\n",
    "        'errors': np.array(result[key][2]),\n",
    "    }\n",
    "sns.set_theme()\n",
    "mplt.newfig(width=0.25, ratio_yx=1.15)\n",
    "plot_results_dict(d, 'Edit distance $\\epsilon$', 'Cert. Acc.', legend_params={'fontsize': 7, 'title_fontsize': 9, 'title': '$c_A^-=c_F^-$'}, ylim=1, xlim=10, clip_on=True, title_params={'label': '$c_A^+=c_F^+=2$', 'fontsize': 9},\n",
    "                yticks_params={'ticks': [0, 0.25, 0.5, 0.75, 1.0], 'labels': ['0%', '25%', '50%', '75%', '100%']})\n",
    "mplt.savefig(path+\"C\", format=format, close_fig='True', preview='png', tight={'pad': 0.55})"
   ]
  },
  {
   "cell_type": "code",
   "execution_count": 64,
   "metadata": {},
   "outputs": [
    {
     "data": {
      "text/html": [
       "\n",
       "        <iframe\n",
       "            width=\"700\"\n",
       "            height=\"500\"\n",
       "            src=\"preview_tmp2038616678.png\"\n",
       "            frameborder=\"0\"\n",
       "            allowfullscreen\n",
       "            \n",
       "        ></iframe>\n",
       "        "
      ],
      "text/plain": [
       "<IPython.lib.display.IFrame at 0x7f644e1280a0>"
      ]
     },
     "execution_count": 64,
     "metadata": {},
     "output_type": "execute_result"
    }
   ],
   "source": [
    "d = {}\n",
    "cA_p = 4\n",
    "cA_m = 1\n",
    "cF_p = 4\n",
    "cF_m = 1\n",
    "key = (cert, cA_p, cA_m, cF_p, cF_m)\n",
    "d[1] = {\n",
    "        'budgets': np.array(result[key][0]),\n",
    "        'cert_metrics': np.array(result[key][1]),\n",
    "        'errors': np.array(result[key][2]),\n",
    "    }\n",
    "cA_p = 4\n",
    "cA_m = 2\n",
    "cF_p = 4\n",
    "cF_m = 2\n",
    "key = (cert, cA_p, cA_m, cF_p, cF_m)\n",
    "d[2] = {\n",
    "        'budgets': np.array(result[key][0]),\n",
    "        'cert_metrics': np.array(result[key][1]),\n",
    "        'errors': np.array(result[key][2]),\n",
    "    }\n",
    "\n",
    "cA_p = 4\n",
    "cA_m = 4\n",
    "cF_p = 4\n",
    "cF_m = 4\n",
    "key = (cert, cA_p, cA_m, cF_p, cF_m)\n",
    "d[4] = {\n",
    "        'budgets': np.array(result[key][0]),\n",
    "        'cert_metrics': np.array(result[key][1]),\n",
    "        'errors': np.array(result[key][2]),\n",
    "    }\n",
    "sns.set_theme()\n",
    "mplt.newfig(width=0.25, ratio_yx=1.15)\n",
    "plot_results_dict(d, 'Edit distance $\\epsilon$', 'Cert. Acc.', legend_params={'fontsize': 7, 'title_fontsize': 9, 'title': '$c_A^-=c_F^-$'}, ylim=1, xlim=10, clip_on=True, title_params={'label': '$c_A^+=c_F^+=4$', 'fontsize': 9},\n",
    "                yticks_params={'ticks': [0, 0.25, 0.5, 0.75, 1.0], 'labels': ['0%', '25%', '50%', '75%', '100%']})\n",
    "mplt.savefig(path+\"D\", format=format, close_fig='True', preview='png', tight={'pad': 0.55})"
   ]
  }
 ],
 "metadata": {
  "kernelspec": {
   "display_name": "hrs",
   "language": "python",
   "name": "python3"
  },
  "language_info": {
   "codemirror_mode": {
    "name": "ipython",
    "version": 3
   },
   "file_extension": ".py",
   "mimetype": "text/x-python",
   "name": "python",
   "nbconvert_exporter": "python",
   "pygments_lexer": "ipython3",
   "version": "3.12.1"
  },
  "orig_nbformat": 4,
  "vscode": {
   "interpreter": {
    "hash": "8a241337d9029673513fb0da3a59832a507f6d8f86ac67911e3e33269ec05324"
   }
  }
 },
 "nbformat": 4,
 "nbformat_minor": 2
}

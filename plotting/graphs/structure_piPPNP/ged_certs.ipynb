{
 "cells": [
  {
   "attachments": {},
   "cell_type": "markdown",
   "metadata": {},
   "source": [
    "# Intro"
   ]
  },
  {
   "cell_type": "code",
   "execution_count": 2,
   "metadata": {},
   "outputs": [
    {
     "name": "stdout",
     "output_type": "stream",
     "text": [
      "Modules to reload:\n",
      "all-except-skipped\n",
      "\n",
      "Modules to skip:\n",
      "\n"
     ]
    }
   ],
   "source": [
    "import torch\n",
    "import numpy as np\n",
    "from tqdm.auto import tqdm\n",
    "import jkutils.mpl_latex_template as mplt\n",
    "import seaborn as sns\n",
    "import matplotlib.pyplot as plt"
   ]
  },
  {
   "cell_type": "code",
   "execution_count": 3,
   "metadata": {},
   "outputs": [],
   "source": [
    "def plot_results_dict(plot_dict, xlabel, ylabel,\n",
    "                      error_alpha=0.5, x_lim_factor=1.05, y_lim_factor=1.1,\n",
    "                      legend_params={}, xlabel_params={}, ylabel_params={}, yticks_params=None,  xticks_params=None, title_params=None,\n",
    "                      linewidth=1, clip_on=False, zorder=3, budget_scaling=1, xlim=None, ylim=None):\n",
    "    pal = sns.color_palette('colorblind', n_colors=len(plot_dict))\n",
    "\n",
    "    max_budget = 0\n",
    "    max_metric = 0\n",
    "\n",
    "    for i, k in enumerate(plot_dict.keys()):\n",
    "        if 'label' in plot_dict[k].keys():\n",
    "            label = plot_dict[k]['label']\n",
    "        else:\n",
    "            label = k\n",
    "\n",
    "        budgets = plot_dict[k]['budgets'] * budget_scaling\n",
    "        metrics = plot_dict[k]['cert_metrics']\n",
    "        \n",
    "        plt.step(budgets, metrics, label=label, color=pal[i], zorder=zorder, clip_on=clip_on, linewidth=linewidth, where='mid')\n",
    "\n",
    "        if 'errors' in plot_dict[k].keys():\n",
    "            errors = plot_dict[k]['errors']\n",
    "            plt.fill_between(budgets, metrics-errors, metrics+errors, alpha=error_alpha, color=pal[i], zorder=zorder, clip_on=clip_on, linewidth=0, step=\"mid\")\n",
    "\n",
    "        #print(f'Max error for {k} is {errors.max()}')\n",
    "\n",
    "        max_budget = max(max_budget, budgets.max())\n",
    "        max_metric = max(max_metric, metrics.max())\n",
    "\n",
    "    if xlim is not None:\n",
    "        plt.xlim(0, xlim)\n",
    "    elif x_lim_factor is not None:\n",
    "        plt.xlim(0, x_lim_factor * max_budget)\n",
    "    else:\n",
    "        plt.xlim(left=0)\n",
    "\n",
    "    if ylim is not None:\n",
    "        plt.ylim(0, ylim)\n",
    "    elif y_lim_factor is not None:\n",
    "        plt.ylim(0, y_lim_factor * max_metric)\n",
    "    else:\n",
    "        plt.ylim(bottom=0)\n",
    "\n",
    "    plt.xlabel(xlabel, **xlabel_params)\n",
    "    plt.ylabel(ylabel, **ylabel_params)\n",
    "\n",
    "    if title_params is not None:\n",
    "        plt.title(**title_params)\n",
    "\n",
    "    if yticks_params is not None:\n",
    "        plt.yticks(**yticks_params)\n",
    "\n",
    "    if xticks_params is not None:\n",
    "        plt.xticks(**xticks_params)\n",
    "\n",
    "    plt.legend(**legend_params)"
   ]
  },
  {
   "attachments": {},
   "cell_type": "markdown",
   "metadata": {},
   "source": [
    "# Plotting"
   ]
  },
  {
   "cell_type": "code",
   "execution_count": 5,
   "metadata": {},
   "outputs": [
    {
     "data": {
      "application/vnd.jupyter.widget-view+json": {
       "model_id": "40592380514a4f5b97403c7b51db0cf0",
       "version_major": 2,
       "version_minor": 0
      },
      "text/plain": [
       "  0%|          | 0/194 [00:00<?, ?it/s]"
      ]
     },
     "metadata": {},
     "output_type": "display_data"
    },
    {
     "data": {
      "application/vnd.jupyter.widget-view+json": {
       "model_id": "d7b8c1f660da4cc1b8df47b1f1325a89",
       "version_major": 2,
       "version_minor": 0
      },
      "text/plain": [
       "  0%|          | 0/194 [00:00<?, ?it/s]"
      ]
     },
     "metadata": {},
     "output_type": "display_data"
    },
    {
     "name": "stdout",
     "output_type": "stream",
     "text": [
      "194\n"
     ]
    }
   ],
   "source": [
    "import seml\n",
    "df_results = seml.get_results('graph_cert_piPPNP', to_data_frame=True, fields=['config', 'stats'])\n",
    "print(len(df_results))\n",
    "if len(df_results) > 0:\n",
    "    save_dir = df_results.iloc[0][\"config.conf.save_dir\"] + \"/\" + df_results.iloc[0][\"config.db_collection\"] + \"_\""
   ]
  },
  {
   "cell_type": "code",
   "execution_count": 5,
   "metadata": {},
   "outputs": [],
   "source": [
    "path = \"anon/plots/piPPNP\""
   ]
  },
  {
   "cell_type": "code",
   "execution_count": 6,
   "metadata": {},
   "outputs": [
    {
     "data": {
      "image/png": "[encoded data removed]",
      "text/plain": [
       "<Figure size 137.5x158.125 with 1 Axes>"
      ]
     },
     "metadata": {},
     "output_type": "display_data"
    },
    {
     "data": {
      "image/png": "[encoded data removed]",
      "text/plain": [
       "<Figure size 137.5x158.125 with 1 Axes>"
      ]
     },
     "metadata": {},
     "output_type": "display_data"
    },
    {
     "data": {
      "image/png": "[encoded data removed]",
      "text/plain": [
       "<Figure size 137.5x158.125 with 1 Axes>"
      ]
     },
     "metadata": {},
     "output_type": "display_data"
    },
    {
     "data": {
      "image/png": "[encoded data removed]",
      "text/plain": [
       "<Figure size 137.5x158.125 with 1 Axes>"
      ]
     },
     "metadata": {},
     "output_type": "display_data"
    }
   ],
   "source": [
    "format = 'pgf'\n",
    "for dataset in [\"Cora\", \"Citeseer\"]:\n",
    "    cond = (df_results['config.hparams.threat_model'] == 'add_rem') & \\\n",
    "        (df_results['config.hparams.dataset'] == dataset) \n",
    "    df = df_results[cond]\n",
    "    filename = f\"piPPNP-{dataset}\"\n",
    "\n",
    "    # ca = 1\n",
    "    d = {}\n",
    "    cond2 = (df['config.hparams.cd'] == 1) & (df['config.hparams.ca'] == 1) \n",
    "    id = df[cond2]['config.overwrite'].item()\n",
    "    a = torch.load(f\"anon/results/pippnp/graph_cert_piPPNP_{id}\")\n",
    "    n = a['local']['cert_accs'][0].shape[0]\n",
    "    d[1] = {\n",
    "                'budgets': np.arange(n),\n",
    "                'cert_metrics': a['local']['cert_accs'][0],\n",
    "                'errors': a['local']['cert_accs'][1],\n",
    "    }\n",
    "\n",
    "    cond2 = (df['config.hparams.cd'] == 2) & (df['config.hparams.ca'] == 1) \n",
    "    id = df[cond2]['config.overwrite'].item()\n",
    "    a = torch.load(f\"anon/results/pippnp/graph_cert_piPPNP_{id}\")\n",
    "    n = a['local']['cert_accs'][0].shape[0]\n",
    "    d[2] = {\n",
    "                'budgets': np.arange(n),\n",
    "                'cert_metrics': a['local']['cert_accs'][0],\n",
    "                'errors': a['local']['cert_accs'][1],\n",
    "    }\n",
    "\n",
    "    cond2 = (df['config.hparams.cd'] == 4) & (df['config.hparams.ca'] == 1) \n",
    "    id = df[cond2]['config.overwrite'].item()\n",
    "    a = torch.load(f\"anon/results/pippnp/graph_cert_piPPNP_{id}\")\n",
    "    n = a['local']['cert_accs'][0].shape[0]\n",
    "    d[4] = {\n",
    "                'budgets': np.arange(n),\n",
    "                'cert_metrics': a['local']['cert_accs'][0],\n",
    "                'errors': a['local']['cert_accs'][1],\n",
    "    }\n",
    "    d_tmp = d\n",
    "\n",
    "    sns.set_theme()\n",
    "    mplt.newfig(width=0.25, ratio_yx=1.15)\n",
    "    plot_results_dict(d, 'attack strength', 'Cert. Acc.', legend_params={'fontsize': 7, 'title_fontsize': 9, 'title': '$c_A^-$'}, ylim=1, xlim=9, clip_on=True, title_params={'label': '$c_A^+=1$', 'fontsize': 9},\n",
    "                    yticks_params={'ticks': [0, 0.25, 0.5, 0.75, 1.0], 'labels': ['0%', '25%', '50%', '75%', '100%']},  xticks_params={'ticks': [0,4,9]})\n",
    "\n",
    "    mplt.savefig(path+filename+\"-A\", format=format, close_fig='True', preview='png', tight={'pad': 0.55})\n",
    "\n",
    "\n",
    "    d = {}\n",
    "    cond2 = (df['config.hparams.cd'] == 1) & (df['config.hparams.ca'] == 1) \n",
    "    id = df[cond2]['config.overwrite'].item()\n",
    "    a = torch.load(f\"anon/results/pippnp/graph_cert_piPPNP_{id}\")\n",
    "    n = a['local']['cert_accs'][0].shape[0]\n",
    "    d[1] = {\n",
    "                'budgets': np.arange(n),\n",
    "                'cert_metrics': a['local']['cert_accs'][0],\n",
    "                'errors': a['local']['cert_accs'][1],\n",
    "    }\n",
    "\n",
    "    cond2 = (df['config.hparams.cd'] == 1) & (df['config.hparams.ca'] == 2) \n",
    "    id = df[cond2]['config.overwrite'].item()\n",
    "    a = torch.load(f\"anon/results/pippnp/graph_cert_piPPNP_{id}\")\n",
    "    n = a['local']['cert_accs'][0].shape[0]\n",
    "    d[2] = {\n",
    "                'budgets': np.arange(n),\n",
    "                'cert_metrics': a['local']['cert_accs'][0],\n",
    "                'errors': a['local']['cert_accs'][1],\n",
    "    }\n",
    "\n",
    "    cond2 = (df['config.hparams.cd'] == 1) & (df['config.hparams.ca'] == 4) \n",
    "    id = df[cond2]['config.overwrite'].item()\n",
    "    a = torch.load(f\"anon/results/pippnp/graph_cert_piPPNP_{id}\")\n",
    "    n = a['local']['cert_accs'][0].shape[0]\n",
    "    d[4] = {\n",
    "                'budgets': np.arange(n),\n",
    "                'cert_metrics': a['local']['cert_accs'][0],\n",
    "                'errors': a['local']['cert_accs'][1],\n",
    "    }\n",
    "\n",
    "    sns.set_theme()\n",
    "    mplt.newfig(width=0.25, ratio_yx=1.15)\n",
    "    plot_results_dict(d, 'attack strength', 'Cert. Acc.', legend_params={'fontsize': 7, 'title_fontsize': 9, 'title': '$c_A^+$'}, ylim=1, xlim=9, clip_on=True, title_params={'label': '$c_A^-=1$', 'fontsize': 9},\n",
    "                    yticks_params={'ticks': [0, 0.25, 0.5, 0.75, 1.0], 'labels': ['0%', '25%', '50%', '75%', '100%']}, xticks_params={'ticks': [0,4,9]})\n",
    "\n",
    "    mplt.savefig(path+filename+\"-B\", format=format, close_fig='True', preview='png', tight={'pad': 0.55})\n"
   ]
  }
 ],
 "metadata": {
  "kernelspec": {
   "display_name": "hrs",
   "language": "python",
   "name": "python3"
  },
  "language_info": {
   "codemirror_mode": {
    "name": "ipython",
    "version": 3
   },
   "file_extension": ".py",
   "mimetype": "text/x-python",
   "name": "python",
   "nbconvert_exporter": "python",
   "pygments_lexer": "ipython3",
   "version": "3.12.1"
  },
  "orig_nbformat": 4,
  "vscode": {
   "interpreter": {
    "hash": "8a241337d9029673513fb0da3a59832a507f6d8f86ac67911e3e33269ec05324"
   }
  }
 },
 "nbformat": 4,
 "nbformat_minor": 2
}
